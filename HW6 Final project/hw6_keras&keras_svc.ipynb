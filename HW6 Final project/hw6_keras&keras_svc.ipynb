{
 "cells": [
  {
   "cell_type": "code",
   "execution_count": 1,
   "metadata": {},
   "outputs": [],
   "source": [
    "from keras.models import Sequential\n",
    "from keras.layers.core import Dense, Dropout, Activation,Flatten\n",
    "from keras.layers.convolutional import Convolution2D, MaxPooling2D\n",
    "from keras.optimizers import SGD\n",
    "from keras.datasets import mnist\n",
    "from keras.layers import BatchNormalization\n",
    "from sklearn.svm import SVC\n",
    "import theano\n",
    "from keras.utils import np_utils\n",
    "import numpy as np\n",
    "import pandas as pd\n",
    "from sklearn.preprocessing import StandardScaler\n",
    "from sklearn.model_selection import train_test_split\n",
    "from tensorflow.python.keras.engine import base_layer_utils\n",
    "from tensorflow.python.keras.engine import input_spec\n",
    "from tensorflow.python.keras.engine import keras_tensor\n",
    "from tensorflow.python.keras.engine import node as node_module\n",
    "from keras import backend \n",
    "import keras\n",
    "import tensorflow as tf"
   ]
  },
  {
   "cell_type": "code",
   "execution_count": 19,
   "metadata": {},
   "outputs": [],
   "source": [
    "def svc(traindata,trainlabel,testdata,testlabel,fin_test):\n",
    "    print(\"Start training SVM...\")\n",
    "    svcClf = SVC(C=8,kernel=\"rbf\",cache_size=3000)\n",
    "    svcClf.fit(traindata,trainlabel)\n",
    "\n",
    "    pred_testlabel = svcClf.predict(testdata)\n",
    "    fin_testlabel=svcClf.predict(fin_test)\n",
    "    num = len(pred_testlabel)\n",
    "    print(type(pred_testlabel))\n",
    "    print(type(testlabel))\n",
    "    accuracy = len([1 for i in range(num) if testlabel[i]==pred_testlabel[i]])/float(num)\n",
    "    print(\"cnn-svm Accuracy:\",accuracy)\n",
    "    print(pred_testlabel)\n",
    "    df_svcClf_out=pd.DataFrame({\n",
    "    \"RowNumber\":df_test['RowNumber'],\n",
    "    \"Exited\":fin_testlabel\n",
    "    })\n",
    "    df_svcClf_out.to_csv('keras_svcClf.csv')"
   ]
  },
  {
   "cell_type": "code",
   "execution_count": 13,
   "metadata": {},
   "outputs": [
    {
     "name": "stdout",
     "output_type": "stream",
     "text": [
      "[[ 9.67545e+01 -3.85250e+00 -1.52350e+00 ... -4.46500e-01 -2.55000e-02\n",
      "  -5.50000e-03]\n",
      " [ 3.17545e+01 -8.52500e-01 -1.52350e+00 ... -4.46500e-01 -2.55000e-02\n",
      "  -5.50000e-03]\n",
      " [-8.42455e+01 -8.85250e+00  1.47650e+00 ...  5.53500e-01 -2.55000e-02\n",
      "  -5.50000e-03]\n",
      " ...\n",
      " [-8.12455e+01  3.14750e+00 -1.52350e+00 ...  5.53500e-01 -2.55000e-02\n",
      "  -5.50000e-03]\n",
      " [-2.72455e+01  1.14750e+00  2.47650e+00 ...  5.53500e-01 -2.55000e-02\n",
      "  -5.50000e-03]\n",
      " [-1.42455e+01 -1.08525e+01  4.76500e-01 ... -4.46500e-01 -2.55000e-02\n",
      "  -5.50000e-03]]\n"
     ]
    }
   ],
   "source": [
    "df_test=pd.read_csv('test.csv')\n",
    "dx2=df_test[['CreditScore','Age','Tenure','Balance','NumOfProducts','HasCrCard','IsActiveMember','EstimatedSalary']]\n",
    "dx_test=pd.get_dummies(dx2,columns=['NumOfProducts'])\n",
    "dx_test -= dx_test.mean(axis=0)\n",
    "dx_test=dx_test.values\n",
    "print(dx_test)\n",
    "dx_test -= dx_test.mean(axis=0)\n",
    "dx_test /= dx_test.std(axis=0)"
   ]
  },
  {
   "cell_type": "code",
   "execution_count": null,
   "metadata": {},
   "outputs": [],
   "source": []
  },
  {
   "cell_type": "code",
   "execution_count": 4,
   "metadata": {},
   "outputs": [],
   "source": [
    "df = pd.read_csv(\"train.csv\")"
   ]
  },
  {
   "cell_type": "code",
   "execution_count": 5,
   "metadata": {},
   "outputs": [
    {
     "name": "stdout",
     "output_type": "stream",
     "text": [
      "8000\n"
     ]
    }
   ],
   "source": [
    "dx_train=df['Exited']\n",
    "labels=df.Exited.values\n",
    "feature=df[['CreditScore','Age','Tenure','Balance','NumOfProducts','HasCrCard','IsActiveMember','EstimatedSalary']]\n",
    "feature_train=pd.get_dummies(feature,columns=['NumOfProducts'])\n",
    "dataset=StandardScaler().fit_transform(feature_train)\n",
    "#dataset=feature_train.values\n",
    "labels=df.Exited.values\n",
    "print(len(labels))"
   ]
  },
  {
   "cell_type": "code",
   "execution_count": null,
   "metadata": {},
   "outputs": [],
   "source": []
  },
  {
   "cell_type": "code",
   "execution_count": null,
   "metadata": {},
   "outputs": [],
   "source": []
  },
  {
   "cell_type": "code",
   "execution_count": 16,
   "metadata": {},
   "outputs": [
    {
     "name": "stdout",
     "output_type": "stream",
     "text": [
      "[0 0 1 ... 0 0 0]\n"
     ]
    }
   ],
   "source": [
    "X_train, X_test, Y_train, Y_test = train_test_split(dataset,labels,test_size=0.2)\n",
    "print(Y_train)"
   ]
  },
  {
   "cell_type": "code",
   "execution_count": 7,
   "metadata": {},
   "outputs": [
    {
     "name": "stderr",
     "output_type": "stream",
     "text": [
      "D:\\anaconda\\lib\\site-packages\\tensorflow\\python\\keras\\engine\\sequential.py:455: UserWarning: `model.predict_classes()` is deprecated and will be removed after 2021-01-01. Please use instead:* `np.argmax(model.predict(x), axis=-1)`,   if your model does multi-class classification   (e.g. if it uses a `softmax` last-layer activation).* `(model.predict(x) > 0.5).astype(\"int32\")`,   if your model does binary classification   (e.g. if it uses a `sigmoid` last-layer activation).\n",
      "  warnings.warn('`model.predict_classes()` is deprecated and '\n"
     ]
    }
   ],
   "source": [
    "model = Sequential()\n",
    "model.add(Dense(12, input_shape=(11,), activation=\"relu\"))\n",
    "model.add(Dense(12, activation=\"relu\"))\n",
    "model.add(Dense(1, activation=\"sigmoid\"))\n",
    "model.compile(loss=\"binary_crossentropy\", optimizer=\"adam\",\n",
    "metrics=[\"accuracy\"])\n",
    "model.fit(X_train, Y_train, validation_split=0.33,epochs=150, batch_size=10, verbose=0)\n",
    "Y_pred = model.predict_classes(dx_test, batch_size=10, verbose=0)\n",
    "Y_pred=Y_pred.flatten()\n",
    "df_Clf_out=pd.DataFrame({\n",
    "    \"RowNumber\":df_test['RowNumber'],\n",
    "    \"Exited\":Y_pred\n",
    "})\n",
    "df_Clf_out.to_csv('keras_Clf.csv')"
   ]
  },
  {
   "cell_type": "code",
   "execution_count": 8,
   "metadata": {},
   "outputs": [
    {
     "name": "stdout",
     "output_type": "stream",
     "text": [
      "1600/1600 [==============================] - 2s 1ms/step - loss: 0.3678 - accuracy: 0.8487\n"
     ]
    }
   ],
   "source": [
    "val_loss,val_accuracy = model.evaluate(X_test, Y_test, batch_size=1 )"
   ]
  },
  {
   "cell_type": "code",
   "execution_count": 9,
   "metadata": {},
   "outputs": [
    {
     "name": "stdout",
     "output_type": "stream",
     "text": [
      "Model: \"sequential\"\n",
      "_________________________________________________________________\n",
      "Layer (type)                 Output Shape              Param #   \n",
      "=================================================================\n",
      "dense (Dense)                (None, 12)                144       \n",
      "_________________________________________________________________\n",
      "dense_1 (Dense)              (None, 12)                156       \n",
      "_________________________________________________________________\n",
      "dense_2 (Dense)              (None, 1)                 13        \n",
      "=================================================================\n",
      "Total params: 313\n",
      "Trainable params: 313\n",
      "Non-trainable params: 0\n",
      "_________________________________________________________________\n",
      "None\n"
     ]
    }
   ],
   "source": [
    "print(model.summary())"
   ]
  },
  {
   "cell_type": "code",
   "execution_count": 15,
   "metadata": {},
   "outputs": [
    {
     "name": "stdout",
     "output_type": "stream",
     "text": [
      "[0 0 0 ... 0 0 1]\n"
     ]
    }
   ],
   "source": [
    "print(Y_train)"
   ]
  },
  {
   "cell_type": "code",
   "execution_count": 20,
   "metadata": {
    "scrolled": true
   },
   "outputs": [
    {
     "name": "stdout",
     "output_type": "stream",
     "text": [
      "<class 'numpy.ndarray'>\n",
      "[ 0.22336871 -0.13148003  1.91142144 -1.21451194  0.65037001  0.96680078\n",
      " -1.08905069 -1.009798    1.07884971 -0.16618427 -0.07850316]\n",
      "[ 1.60918292 -0.50845629 -1.22234594 -1.27272998 -1.58976    -1.01613007\n",
      "  0.26358415  0.95596841 -0.8981563  -0.16176299 -0.07436678]\n",
      "Start training SVM...\n",
      "<class 'numpy.ndarray'>\n",
      "<class 'numpy.ndarray'>\n",
      "cnn-svm Accuracy: 0.863125\n",
      "[0 0 1 ... 1 0 0]\n",
      "[[0.82280695 0.         0.         ... 0.         1.5060053  1.7509731 ]\n",
      " [0.         0.         0.         ... 0.         1.4504174  0.        ]\n",
      " [0.07747924 0.23528948 0.         ... 0.59570706 0.8112339  0.        ]\n",
      " ...\n",
      " [1.1954606  1.0939783  0.         ... 0.         0.20166558 0.        ]\n",
      " [0.92120296 0.         0.         ... 0.         0.10892439 0.        ]\n",
      " [0.         0.01028597 0.         ... 0.         2.970756   0.        ]]\n",
      "[0 0 1 ... 0 0 0]\n"
     ]
    }
   ],
   "source": [
    "get_feature = keras.backend.function([model.layers[0].input],model.layers[1].get_output_at(0))\n",
    "FC_train_feature = get_feature(X_train)\n",
    "print(type(X_train))\n",
    "FC_test_feature = get_feature(X_test)\n",
    "fin_test=get_feature(dx_test)\n",
    "print(X_train[0])\n",
    "print(dx_test[0])\n",
    "svc(FC_train_feature,Y_train,FC_test_feature,Y_test,fin_test)\n",
    "print(FC_test_feature)\n",
    "\n",
    "print(Y_train)"
   ]
  },
  {
   "cell_type": "code",
   "execution_count": null,
   "metadata": {},
   "outputs": [],
   "source": []
  },
  {
   "cell_type": "code",
   "execution_count": null,
   "metadata": {},
   "outputs": [],
   "source": []
  }
 ],
 "metadata": {
  "kernelspec": {
   "display_name": "Python 3",
   "language": "python",
   "name": "python3"
  },
  "language_info": {
   "codemirror_mode": {
    "name": "ipython",
    "version": 3
   },
   "file_extension": ".py",
   "mimetype": "text/x-python",
   "name": "python",
   "nbconvert_exporter": "python",
   "pygments_lexer": "ipython3",
   "version": "3.8.3"
  }
 },
 "nbformat": 4,
 "nbformat_minor": 4
}
