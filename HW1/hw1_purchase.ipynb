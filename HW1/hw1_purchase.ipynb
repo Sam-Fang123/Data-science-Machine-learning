{
 "cells": [
  {
   "cell_type": "markdown",
   "metadata": {},
   "source": [
    "### In-Game Purchase Data Analysis\n",
    "\n",
    "#### Background \n",
    "\n",
    "In this homework, you are ask to deal with a task of analyzing an \"in-game purchase\" dataset. In this game, players are able to to purchase optional items that enhance their playing experience. Now your task is to generate a report that breaks down the game's purchasing data into meaningful insights.\n",
    "\n",
    "-----\n",
    "\n",
    "#### Observable Trends\n",
    "\n",
    "* There are 1163 active players. The vast majority are male (84%). There also exists, a smaller, but notable proportion of female players (14%).\n",
    "\n",
    "* Our peak age demographic falls between 20-24 (44.79%) with secondary groups falling between 15-19 (18.58%) and 25-29 (13.37%). \n",
    "\n",
    "* The age group that spends the most money is the 20-24 with 1,114.06 dollars as total purchase value and an average purchase of 4.32. In contrast, the demographic group that has the highest average purchase is the 35-39 with 4.76 and a total purchase value of 147.67. \n",
    "-----\n"
   ]
  },
  {
   "cell_type": "code",
   "execution_count": 1,
   "metadata": {},
   "outputs": [],
   "source": [
    "import pandas as pd\n",
    "import numpy as np\n",
    "\n",
    "# Raw data file\n",
    "file_to_load = \"purchase_data.csv\"\n",
    "\n",
    "# Read purchasing file and store into pandas data frame\n",
    "purchase_data = pd.read_csv(file_to_load)\n"
   ]
  },
  {
   "cell_type": "markdown",
   "metadata": {},
   "source": [
    "## Player Count"
   ]
  },
  {
   "cell_type": "markdown",
   "metadata": {},
   "source": [
    "* Display the total number of players\n"
   ]
  },
  {
   "cell_type": "code",
   "execution_count": 2,
   "metadata": {},
   "outputs": [
    {
     "name": "stdout",
     "output_type": "stream",
     "text": [
      "   Total Players\n",
      "0            576\n"
     ]
    }
   ],
   "source": [
    "player=purchase_data.groupby('SN')   #將data以'SN'欄位分組\n",
    "D1=pd.DataFrame({'Total Players':len(player)},[0])   #算出長度\n",
    "print(D1)"
   ]
  },
  {
   "cell_type": "markdown",
   "metadata": {},
   "source": [
    "## Purchasing Analysis (Total)"
   ]
  },
  {
   "cell_type": "markdown",
   "metadata": {},
   "source": [
    "* Run basic calculations to obtain number of unique items, average price, etc.\n",
    "* Create a summary data frame to hold the results\n",
    "* Display the summary data frame"
   ]
  },
  {
   "cell_type": "code",
   "execution_count": 3,
   "metadata": {
    "scrolled": true
   },
   "outputs": [
    {
     "name": "stdout",
     "output_type": "stream",
     "text": [
      "   Number of Unique Items  Average Price  Number of Purchases  Total Revenue\n",
      "0                     183       3.050987                  780        2379.77\n"
     ]
    }
   ],
   "source": [
    "item=purchase_data.groupby('Item ID')    #將data以'Item ID'分組\n",
    "D2=pd.DataFrame({\n",
    "    'Number of Unique Items':len(item),             #Item的種類數\n",
    "    'Average Price':purchase_data['Price'].mean(),  #item的平均數\n",
    "    'Number of Purchases':len(purchase_data),       #總共購買的數量\n",
    "    'Total Revenue':purchase_data['Price'].sum()    #購買總和\n",
    "},[0])\n",
    "print(D2)"
   ]
  },
  {
   "cell_type": "markdown",
   "metadata": {},
   "source": [
    "## Gender Demographics"
   ]
  },
  {
   "cell_type": "markdown",
   "metadata": {},
   "source": [
    "* Percentage and Count of Male Players\n",
    "\n",
    "\n",
    "* Percentage and Count of Female Players\n",
    "\n",
    "\n",
    "* Percentage and Count of Other / Non-Disclosed\n",
    "\n",
    "\n"
   ]
  },
  {
   "cell_type": "code",
   "execution_count": 4,
   "metadata": {},
   "outputs": [
    {
     "name": "stdout",
     "output_type": "stream",
     "text": [
      "                       Percentage of Players  Total Count\n",
      "Male                               84.027778          484\n",
      "Female                             14.062500           81\n",
      "Other / Non-Disclosed               1.909722           11\n"
     ]
    }
   ],
   "source": [
    "gender=purchase_data.groupby(['Gender'])     #將資料先以Gender分組\n",
    "Female=gender.get_group('Female',obj=purchase_data)    #Female=purchase_data[purchase_data['Gender']=='Female']\n",
    "Male=gender.get_group('Male',obj=purchase_data)        #將Female,Male,Other使用分組後的資料各自獨立出來\n",
    "Other=gender.get_group('Other / Non-Disclosed',obj=purchase_data)\n",
    "fe_num=len(Female.groupby(['SN']))    #算出個數\n",
    "ma_num=len(Male.groupby(['SN']))\n",
    "O_num=len(Other.groupby(['SN']))\n",
    "total=fe_num+ma_num+O_num    #總數\n",
    "D3=pd.DataFrame({\n",
    "    'Percentage of Players':[ma_num*100/total,fe_num*100/total,O_num*100/total],   #算出%數\n",
    "    'Total Count':[ma_num,fe_num,O_num]    \n",
    "},index=['Male','Female','Other / Non-Disclosed'])\n",
    "print(D3)"
   ]
  },
  {
   "cell_type": "markdown",
   "metadata": {},
   "source": [
    "\n",
    "## Purchasing Analysis (Gender)"
   ]
  },
  {
   "cell_type": "markdown",
   "metadata": {},
   "source": [
    "* Run basic calculations to obtain below values by gender\n",
    "  * Purchase Count\n",
    "  * Average Purchase Price  \n",
    "  * Total Purchase Value\n",
    "  * Average Purchase Total per Person by Gender\n",
    "* Create a summary data frame to hold the results\n",
    "* Display the summary data frame"
   ]
  },
  {
   "cell_type": "code",
   "execution_count": 5,
   "metadata": {
    "scrolled": true
   },
   "outputs": [
    {
     "name": "stdout",
     "output_type": "stream",
     "text": [
      "                       Purchase Count  Average Purchase Price  \\\n",
      "Female                            113                3.203009   \n",
      "Male                              652                3.017853   \n",
      "Other / Non-Disclosed              15                3.346000   \n",
      "\n",
      "                       Total Purchase Value  Avg Purchase Total per Person  \n",
      "Female                               361.94                       4.468395  \n",
      "Male                                1967.64                       4.065372  \n",
      "Other / Non-Disclosed                 50.19                       4.562727  \n"
     ]
    }
   ],
   "source": [
    "fe=Female.groupby(['SN'])['Price'].sum().mean()    #將上一題的Female DataFrame以'SN'分組，同名的資料相加後再算所有名字的平均\n",
    "ma=Male.groupby(['SN'])['Price'].sum().mean()      #與上述相同\n",
    "other=Other.groupby(['SN'])['Price'].sum().mean()  #與上述相同\n",
    "D4=pd.DataFrame({\n",
    "    'Purchase Count':list(gender.size()),    #.size回傳gender每群的個數，並存成list\n",
    "    'Average Purchase Price':list(gender['Price'].mean()),    #算出每群的平均\n",
    "    'Total Purchase Value':list(gender['Price'].sum()),    #算出每群的總和\n",
    "    'Avg Purchase Total per Person':[fe,ma,other]    #將上述算完的平均存入list\n",
    "},index=['Female','Male','Other / Non-Disclosed'])\n",
    "print(D4)"
   ]
  },
  {
   "cell_type": "markdown",
   "metadata": {},
   "source": [
    "## Age Demographics"
   ]
  },
  {
   "cell_type": "markdown",
   "metadata": {},
   "source": [
    "* Categorize players using the age groups. Hint: use pd.cut()\n",
    "  * each group is for 4 years (i.e. &lt;10, 10-14, 15-19, etc.)\n",
    "* Calculate the numbers and percentages by age group\n",
    "* Create a summary data frame to hold the results\n",
    "* round the percentage column to two decimal points\n",
    "* Display Age Demographics Table"
   ]
  },
  {
   "cell_type": "code",
   "execution_count": 6,
   "metadata": {},
   "outputs": [
    {
     "name": "stdout",
     "output_type": "stream",
     "text": [
      "       Percentage of Players  Total Count\n",
      "0-9                     2.95           17\n",
      "10-14                   3.82           22\n",
      "15-19                  18.58          107\n",
      "20-24                  44.79          258\n",
      "25-29                  13.37           77\n",
      "30-34                   9.03           52\n",
      "35-39                   5.38           31\n",
      "40+                     2.08           12\n"
     ]
    }
   ],
   "source": [
    "bins_age=[0,9,14,19,24,29,34,39,1000]    #切割間隔\n",
    "my_label=['0-9','10-14','15-19','20-24','25-29','30-34','35-39','40+']    #自訂的label\n",
    "purchase_data['級距']=pd.cut(purchase_data['Age'],bins_age,include_lowest=True, labels=my_label)    #cut\n",
    "num=[]\n",
    "for i in my_label:\n",
    "    num.append(len(purchase_data[purchase_data['級距']==i].groupby(['SN'])))    #根據每個cut後的間隔以'SN'分組並計算長度，也就是個數\n",
    "    N=pd.Series(num)\n",
    "N=round(N*100/sum(num),2)\n",
    "D5=pd.DataFrame({\n",
    "    'Percentage of Players':list(N),\n",
    "    'Total Count':num\n",
    "},index=my_label)\n",
    "print(D5)"
   ]
  },
  {
   "cell_type": "markdown",
   "metadata": {},
   "source": [
    "## Purchasing Analysis (Age)"
   ]
  },
  {
   "cell_type": "markdown",
   "metadata": {},
   "source": [
    "* The below each broken into groups of 4 years (i.e. &lt;10, 10-14, 15-19, etc.)\n",
    "  * Purchase Count\n",
    "  * Average Purchase Price\n",
    "  * Total Purchase Value\n",
    "  * Average Purchase Total per Person by Age Group\n",
    "* Bin the purchase_data data frame by age\n",
    "* Run basic calculations to obtain purchase count, avg. purchase price, avg. purchase total per person etc. in the table below\n",
    "* Create a summary data frame to hold the results\n",
    "* Display the summary data frame"
   ]
  },
  {
   "cell_type": "code",
   "execution_count": 7,
   "metadata": {},
   "outputs": [
    {
     "name": "stdout",
     "output_type": "stream",
     "text": [
      "       Purchase Count  Average Purchase Price  Total Purchase Value  \\\n",
      "0-9                23                    3.35                 77.13   \n",
      "10-14              28                    2.96                 82.78   \n",
      "15-19             136                    3.04                412.89   \n",
      "20-24             365                    3.05               1114.06   \n",
      "25-29             101                    2.90                293.00   \n",
      "30-34              73                    2.93                214.00   \n",
      "35-39              41                    3.60                147.67   \n",
      "40+                13                    2.94                 38.24   \n",
      "\n",
      "       Average Purchase Total per Person  \n",
      "0-9                                 4.54  \n",
      "10-14                               3.76  \n",
      "15-19                               3.86  \n",
      "20-24                               4.32  \n",
      "25-29                               3.81  \n",
      "30-34                               4.12  \n",
      "35-39                               4.76  \n",
      "40+                                 3.19  \n"
     ]
    }
   ],
   "source": [
    "range_group=purchase_data.groupby(['級距'])    #根據級距分組\n",
    "ave_pur=[]\n",
    "for i in my_label:\n",
    "    ave_pur.append(purchase_data[purchase_data['級距']==i].groupby(['SN'])['Price'].sum().mean())  #先根據級距分組，再根據'SN'分組\n",
    "D6=pd.DataFrame({                                                                                  #並計算'Price'欄位的總和後算平均\n",
    "    'Purchase Count':list(range_group.size()),    #算出每一個級距的個數\n",
    "    'Average Purchase Price':list(range_group['Price'].mean()),    #算出'Price'的mean\n",
    "    'Total Purchase Value':list(range_group['Price'].sum()),       #算出'Price'的總和\n",
    "    'Average Purchase Total per Person':ave_pur\n",
    "},index=my_label)\n",
    "D6['Average Purchase Price']=round(D6['Average Purchase Price'],2)\n",
    "D6['Average Purchase Total per Person']=round(D6['Average Purchase Total per Person'],2)\n",
    "print(D6)"
   ]
  },
  {
   "cell_type": "markdown",
   "metadata": {},
   "source": [
    "## Top Spenders"
   ]
  },
  {
   "cell_type": "markdown",
   "metadata": {},
   "source": [
    "* Identify the the top 5 spenders in the game by total purchase value (top-5 players with highest total purchase value), then list (in a table):\n",
    "  * SN(screen name)\n",
    "  * Purchase Count\n",
    "  * Average Purchase Price\n",
    "  * Total Purchase Value\n",
    "* Run basic calculations to obtain the results in the table below\n",
    "* Create a summary data frame to hold the results\n",
    "* Sort the total purchase value column in descending order\n",
    "* Display a preview of the summary data frame"
   ]
  },
  {
   "cell_type": "code",
   "execution_count": 8,
   "metadata": {
    "scrolled": false
   },
   "outputs": [
    {
     "name": "stdout",
     "output_type": "stream",
     "text": [
      "             Purchase Count  Average Purchase Price  Total Purchase Value\n",
      "Lisosia93                 5                3.792000                 18.96\n",
      "Idastidru52               4                3.862500                 15.45\n",
      "Chamjask73                3                4.610000                 13.83\n",
      "Iral74                    4                3.405000                 13.62\n",
      "Iskadarya95               3                4.366667                 13.10\n"
     ]
    }
   ],
   "source": [
    "top_5=player['Price'].sum().nlargest(5)    #算出Price欄位總和後的前五名\n",
    "Purchase_Count=[]\n",
    "ave_p=[]\n",
    "for i in list(top_5.index):\n",
    "    Purchase_Count.append(len(purchase_data[purchase_data['SN']==i]))    #找出前五名的欄位的購買數量總和\n",
    "    ave_p.append(purchase_data[purchase_data['SN']==i]['Price'].mean())   #算出前五名'Price'欄位的平均\n",
    "D7=pd.DataFrame({\n",
    "    'Purchase Count':Purchase_Count,\n",
    "    'Average Purchase Price':ave_p,\n",
    "    'Total Purchase Value':list(top_5)\n",
    "},index=list(top_5.index))\n",
    "print(D7)"
   ]
  },
  {
   "cell_type": "markdown",
   "metadata": {},
   "source": [
    "## Most Popular Items"
   ]
  },
  {
   "cell_type": "markdown",
   "metadata": {},
   "source": [
    "* Top 5 most popular items by purchase count:\n",
    "  * Item ID\n",
    "  * Item Name\n",
    "  * Purchase Count\n",
    "  * Item Price\n",
    "  * Total Purchase Value\n",
    "* Retrieve the Item ID, Item Name, and Item Price columns\n",
    "* Group by Item ID and Item Name. Perform calculations to obtain purchase count, item price, and total purchase value\n",
    "* Create a summary data frame to hold the results\n",
    "* Sort the purchase count column in descending order\n",
    "* Display a preview of the summary data frame"
   ]
  },
  {
   "cell_type": "code",
   "execution_count": 9,
   "metadata": {},
   "outputs": [
    {
     "name": "stdout",
     "output_type": "stream",
     "text": [
      "                                        Item Name  Purchase Count  Item Price  \\\n",
      "178  Oathbreaker, Last Hope of the Breaking Storm              12        4.23   \n",
      "145                          Fiery Glass Crusader               9        4.58   \n",
      "108     Extraction, Quickblade Of Trembling Hands               9        3.53   \n",
      "82                                        Nirvana               9        4.90   \n",
      "19                  Pursuit, Cudgel of Necromancy               8        1.02   \n",
      "\n",
      "     Total Purchase Value  \n",
      "178                 50.76  \n",
      "145                 41.22  \n",
      "108                 31.77  \n",
      "82                  44.10  \n",
      "19                   8.16  \n"
     ]
    }
   ],
   "source": [
    "most_5_pop=item['Item ID'].count().nlargest(5)    #算出'Item ID'欄位數量的前五名\n",
    "\n",
    "item_price=[]\n",
    "tot_value=[]\n",
    "item_name=[]\n",
    "sort_list=list(most_5_pop.index)\n",
    "sort_list=sorted(sort_list,reverse = True)    #將index以inverse的方式sort\n",
    "for i in sort_list:\n",
    "    item_price.append(purchase_data[purchase_data['Item ID']==i].iloc[0]['Price'])    #找出item的價格\n",
    "    tot_value.append(purchase_data[purchase_data['Item ID']==i]['Price'].sum())       #找出item'Price'欄位的總和\n",
    "    item_name.append(purchase_data[purchase_data['Item ID']==i].iloc[0]['Item Name']) #找出item的名字\n",
    "\n",
    "D8=pd.DataFrame({\n",
    "    'Item Name':item_name,\n",
    "    'Purchase Count':list(most_5_pop),\n",
    "    'Item Price':item_price,\n",
    "    'Total Purchase Value':tot_value   \n",
    "},index=list(sort_list))\n",
    "print(D8)"
   ]
  },
  {
   "cell_type": "markdown",
   "metadata": {},
   "source": [
    "## Most Profitable Items"
   ]
  },
  {
   "cell_type": "markdown",
   "metadata": {},
   "source": [
    "* Top 5 most profitable items by total purchase value:\n",
    "  * Item ID\n",
    "  * Item Name\n",
    "  * Purchase Count\n",
    "  * Item Price\n",
    "  * Total Purchase Value\n",
    "* Sort the above table by total purchase value in descending order\n",
    "* Display a preview of the data frame"
   ]
  },
  {
   "cell_type": "code",
   "execution_count": 10,
   "metadata": {
    "scrolled": true
   },
   "outputs": [
    {
     "name": "stdout",
     "output_type": "stream",
     "text": [
      "                                        Item Name  Purchase Count  Item Price  \\\n",
      "178  Oathbreaker, Last Hope of the Breaking Storm              12        4.23   \n",
      "82                                        Nirvana               9        4.90   \n",
      "145                          Fiery Glass Crusader               9        4.58   \n",
      "92                                   Final Critic               8        4.88   \n",
      "103                                Singed Scalpel               8        4.35   \n",
      "\n",
      "     Total Purchase Value  \n",
      "178                 50.76  \n",
      "82                  44.10  \n",
      "145                 41.22  \n",
      "92                  39.04  \n",
      "103                 34.80  \n"
     ]
    }
   ],
   "source": [
    "most_profitable=item['Price'].sum().nlargest(5)    #找出'Price'欄位總和的前五名\n",
    "item_price2=[]\n",
    "item_count=[]\n",
    "item_name2=[]\n",
    "sort_list2=list(most_profitable.index)\n",
    "for i in sort_list2:\n",
    "    item_price2.append(purchase_data[purchase_data['Item ID']==i].iloc[0]['Price'])    #找出價格\n",
    "    item_count.append(purchase_data[purchase_data['Item ID']==i]['Item ID'].count())   #找出購買數\n",
    "    item_name2.append(purchase_data[purchase_data['Item ID']==i].iloc[0]['Item Name']) #找出名字\n",
    "\n",
    "D9=pd.DataFrame({\n",
    "    'Item Name':item_name2,\n",
    "    'Purchase Count':item_count,\n",
    "    'Item Price':item_price2,\n",
    "    'Total Purchase Value':list(most_profitable)   \n",
    "},index=list(most_profitable.index))\n",
    "print(D9)"
   ]
  },
  {
   "cell_type": "code",
   "execution_count": null,
   "metadata": {},
   "outputs": [],
   "source": []
  }
 ],
 "metadata": {
  "anaconda-cloud": {},
  "kernel_info": {
   "name": "python3"
  },
  "kernelspec": {
   "display_name": "Python 3",
   "language": "python",
   "name": "python3"
  },
  "language_info": {
   "codemirror_mode": {
    "name": "ipython",
    "version": 3
   },
   "file_extension": ".py",
   "mimetype": "text/x-python",
   "name": "python",
   "nbconvert_exporter": "python",
   "pygments_lexer": "ipython3",
   "version": "3.8.5"
  },
  "nteract": {
   "version": "0.8.4"
  }
 },
 "nbformat": 4,
 "nbformat_minor": 2
}
