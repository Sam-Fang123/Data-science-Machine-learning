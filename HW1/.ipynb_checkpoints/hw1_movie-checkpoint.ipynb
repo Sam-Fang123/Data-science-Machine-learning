{
 "cells": [
  {
   "cell_type": "markdown",
   "metadata": {},
   "source": [
    "import package\n",
    "\n",
    "將.csv檔讀入\n",
    "\n",
    "將資料存入DataFrame中"
   ]
  },
  {
   "cell_type": "code",
   "execution_count": 1,
   "metadata": {
    "scrolled": true
   },
   "outputs": [],
   "source": [
    "import pandas as pd\n",
    "lineList=[]\n",
    "with open(\"IMDB-Movie-Data.csv\",mode=\"r\") as file:    #讀入csv檔\n",
    "    for line in file:\n",
    "        lineList.append(line.strip())\n",
    "linelist=[]\n",
    "for i in range(len(lineList)):\n",
    "    linelist.append(lineList[i].split(\",\"))\n",
    "\n",
    "for i in range(len(linelist)):\n",
    "\n",
    "    linelist[i][4]=linelist[i][4].split(\"|\")          #欄位以|隔開\n",
    "    linelist[i][2]=linelist[i][2].split(\"|\")\n",
    "    if i!=0:\n",
    "        linelist[i][7]=float(linelist[i][7])          #將資料轉成 float,int\n",
    "        linelist[i][5]=int(linelist[i][5])\n",
    "        if linelist[i][9]!='':\n",
    "            linelist[i][9]=float(linelist[i][9])      #若有空個則消除\n",
    "        else:\n",
    "            linelist[i][9]=0.0\n",
    "for i in range(len(linelist)):\n",
    "    j=0\n",
    "    for l in linelist[i][4]:\n",
    "        if l[0]==\" \":\n",
    "            linelist[i][4][j]=l[1:]\n",
    "        j=j+1\n",
    "\n",
    "title=[]\n",
    "genre=[]\n",
    "director=[]\n",
    "actors=[]\n",
    "year=[]\n",
    "rating=[]\n",
    "revenue=[]\n",
    "for i in range(1,len(linelist)):\n",
    "    title.append(linelist[i][1])\n",
    "    genre.append(linelist[i][2])\n",
    "    director.append(linelist[i][3])\n",
    "    actors.append(linelist[i][4])\n",
    "    year.append(linelist[i][5])\n",
    "    rating.append(linelist[i][7])\n",
    "    revenue.append(linelist[i][9])\n",
    "    \n",
    "data=pd.DataFrame({        #把資料存入DataFrame\n",
    "    \"Title\":title,\n",
    "    \"Genre\":genre,\n",
    "    \"Director\":director,\n",
    "    \"Actors\":actors,\n",
    "    \"Year\":year,\n",
    "    \"Rating\":rating,\n",
    "    \"Revenue\":revenue,\n",
    "})\n"
   ]
  },
  {
   "cell_type": "code",
   "execution_count": 2,
   "metadata": {},
   "outputs": [
    {
     "name": "stdout",
     "output_type": "stream",
     "text": [
      "               Title  Rating\n",
      "No1.          Dangal     8.8\n",
      "No2.   Kimi no na wa     8.6\n",
      "No3.  Koe no katachi     8.4\n"
     ]
    }
   ],
   "source": [
    "def question_1(data):\n",
    "    con_2016=data[\"Year\"]==2016        #如果year等於2016，排出前三名的\n",
    "    movie_2016=data[con_2016].nlargest(3,'Rating')\n",
    "    return movie_2016\n",
    "ans=question_1(data)\n",
    "ans.index=['No1.','No2.','No3.']\n",
    "print(ans[['Title','Rating']])"
   ]
  },
  {
   "cell_type": "code",
   "execution_count": 3,
   "metadata": {},
   "outputs": [
    {
     "name": "stdout",
     "output_type": "stream",
     "text": [
      "                 actor  revenue\n",
      "No1  Robert Downey Jr.  3147.37\n"
     ]
    }
   ],
   "source": [
    "def question_2(data):\n",
    "    d1={}\n",
    "    actor=[]\n",
    "    reve=[]\n",
    "    for i in range(data.shape[0]):\n",
    "        key1=data.at[i,'Actors']            #將演員存入key\n",
    "        value1=data.at[i,'Revenue']         #將收入存入value1\n",
    "        for a in key1:\n",
    "            if a not in d1.keys():          #若key不在d1裡，初始化，否則直接相加\n",
    "                d1[a]=value1\n",
    "            else:\n",
    "                d1[a]=d1[a]+value1\n",
    "    \n",
    "    D=pd.DataFrame({\n",
    "        \"actor\":d1.keys(),\"revenue\":d1.values()  #存入dataframe\n",
    "    })\n",
    "    result=D.nlargest(1,'revenue')       #找出第一名\n",
    "    result.index=['No1']\n",
    "    return result\n",
    "print(question_2(data))"
   ]
  },
  {
   "cell_type": "code",
   "execution_count": 4,
   "metadata": {},
   "outputs": [
    {
     "name": "stdout",
     "output_type": "stream",
     "text": [
      "7.175\n"
     ]
    }
   ],
   "source": [
    "def question_3(data):\n",
    "    condition=[]\n",
    "    for i in range(data.shape[0]):\n",
    "        a='Emma Watson' in data.at[i,'Actors']      #如果emma watson在actor中，則append\n",
    "        condition.append(a)\n",
    "    Emma_movie=data[condition]\n",
    "    return Emma_movie['Rating'].mean()        #算出rating的平均值\n",
    "print(question_3(data))"
   ]
  },
  {
   "cell_type": "code",
   "execution_count": 5,
   "metadata": {},
   "outputs": [
    {
     "name": "stdout",
     "output_type": "stream",
     "text": [
      "                Director  Actors number\n",
      "No1.        Ridley Scott             28\n",
      "No2.  M. Night Shyamalan             24\n",
      "No3.         Danny Boyle             20\n"
     ]
    }
   ],
   "source": [
    "def question_4(data):\n",
    "    d1={}\n",
    "    director=[]\n",
    "    actor_num=[]\n",
    "    \n",
    "    for i in range(data.shape[0]):\n",
    "        key1=data.at[i,'Director']\n",
    "        value1=data.at[i,'Actors']\n",
    "        if key1 not in d1.keys():      #如果導演不在key1中，則初始化，否則相加演員\n",
    "            d1[key1]=value1\n",
    "        else:\n",
    "            for name in value1:\n",
    "                if name not in d1.get(key1):     #若演員不在導演的value中，則相加\n",
    "                    d1[key1]=d1[key1]+[name]\n",
    "    for key,value in d1.items():\n",
    "        director.append(key)\n",
    "        actor_num.append(len(value))     #算出演員數量\n",
    "        \n",
    "    D=pd.DataFrame({\"Director\":director    #存入dataframe\n",
    "                    ,\"Actors number\":actor_num\n",
    "                   })\n",
    "    result=D.nlargest(3,'Actors number')    #算出前三名\n",
    "    result.index=['No1.','No2.','No3.']\n",
    "    return result\n",
    "print(question_4(data))"
   ]
  },
  {
   "cell_type": "code",
   "execution_count": 6,
   "metadata": {},
   "outputs": [
    {
     "name": "stdout",
     "output_type": "stream",
     "text": [
      "            Actor  Genre number\n",
      "No1     Brad Pitt            14\n",
      "No2  Hugh Jackman            13\n"
     ]
    }
   ],
   "source": [
    "def question_5(data):\n",
    "    d1={}\n",
    "    actor=[]\n",
    "    num_genre=[]\n",
    "    for i in range(data.shape[0]):\n",
    "        key1=data.at[i,'Actors']\n",
    "        value1=data.at[i,'Genre']\n",
    "        for a in key1:       #若演員不在key中，則初始化\n",
    "            if a not in d1.keys():\n",
    "                d1[a]=value1\n",
    "            else:\n",
    "                for g in value1:\n",
    "                    if g not in d1.get(a):    #若演員演過的種類不在value中，初始化，否則相加\n",
    "                        d1[a]=d1[a]+[g]\n",
    "    for key,value in d1.items():\n",
    "        actor.append(key)    \n",
    "        num_genre.append(len(value))     #num_genre為演過的種類個數\n",
    "    D=pd.DataFrame({\n",
    "                    \"Actor\":actor, \n",
    "                    \"Genre number\":num_genre \n",
    "    })\n",
    "    result=D.nlargest(2,'Genre number')    #存入dataframe並算出前兩名\n",
    "    result.index=['No1','No2']\n",
    "    return result\n",
    "print(question_5(data))"
   ]
  },
  {
   "cell_type": "code",
   "execution_count": 7,
   "metadata": {},
   "outputs": [
    {
     "name": "stdout",
     "output_type": "stream",
     "text": [
      "{'Christian Bale': 10, 'Anne Hathaway': 10, 'Hugh Jackman': 10, 'Scarlett Johansson': 10, 'Matt Damon': 10, 'Mark Wahlberg': 10, 'Brad Pitt': 10, 'Christopher Plummer': 10, 'Tom Hanks': 10, 'Bryce Dallas Howard': 10, 'Chiwetel Ejiofor': 10, 'Ben Kingsley': 10, 'Gerard Butler': 10, 'Eva Green': 10, 'Judi Dench': 10, 'Will Smith': 10, 'Jennifer Connelly': 10, 'Tom Cruise': 10, 'Emily Blunt': 10, 'Kevin Spacey': 10, 'Samuel L. Jackson': 10, 'Steve Carell': 10, 'Edward Norton': 10, 'Will Ferrell': 10, 'Denzel Washington': 10, 'Russell Crowe': 10, 'Toni Collette': 10, 'Meryl Streep': 10, 'Morgan Freeman': 10, 'Dominic West': 10, 'Owen Wilson': 10, 'Michelle Monaghan': 10, 'Jessica Biel': 10, 'Dustin Hoffman': 10, 'Ben Whishaw': 10, 'Paula Patton': 10, 'Abbie Cornish': 10, 'Johnny Depp': 10, 'Jack Davenport': 10, 'Rachel Weisz': 10, 'Ellen Burstyn': 10, 'Kang-ho Song': 10, 'Jeremy Irons': 10, 'Marion Cotillard': 10, 'Kirsten Dunst': 10, 'Jennifer Aniston': 10, 'Justin Theroux': 10, 'Maya Rudolph': 10, 'Kate Bosworth': 10, 'Audrey Tautou': 10, 'Luke Wilson': 10, 'Sacha Baron Cohen': 10, 'Bob Balaban': 10}\n"
     ]
    }
   ],
   "source": [
    "def question_6(data):\n",
    "    d1={}       #初始化d1字典\n",
    "    result={}   #初始化result字典\n",
    "    for i in range(data.shape[0]):\n",
    "        key1=data.at[i,'Actors']      #key1為演員列表\n",
    "        value1=data.at[i,'Year']      #value1為年份\n",
    "        for a in key1:\n",
    "            if a not in d1.keys():          #如果演員不在d1的key\n",
    "                d1[a]=[int(value1)]         #初始化並給予年份值\n",
    "            else:\n",
    "                d1[a]=d1[a]+[int(value1)]   #如果演員在d1的key，將演過的年份串接成list\n",
    "        for key,value in d1.items():\n",
    "            result[key]=max(value)-min(value)   #最大值減最小值\n",
    "    return dict(sorted(result.items(),key=lambda item: item[1],reverse=True)[:53])\n",
    "print(question_6(data))"
   ]
  },
  {
   "cell_type": "code",
   "execution_count": 8,
   "metadata": {},
   "outputs": [
    {
     "name": "stdout",
     "output_type": "stream",
     "text": [
      "There are 1575 actors who collaborate with Johnny Depp in direct and indirect ways:\n",
      "\n",
      "['Johnny Depp', 'Helena Bonham Carter', 'Colin Firth', 'Geoffrey Rush', 'Derek Jacobi', 'Jim Sturgess', 'Sylvia Hoeks', 'Donald Sutherland', 'Matthew McConaughey', 'Anne Hathaway', 'Jessica Chastain', 'Mackenzie Foy', 'Matt Damon', 'Leonardo DiCaprio', 'Joseph Gordon-Levitt', 'Ellen Page', 'Ken Watanabe', 'Aaron Taylor-Johnson', 'Nicolas Cage', 'Chloe Grace Moretz', 'Garrett M. Brown', 'Zooey Deschanel', 'Geoffrey Arend', 'Josh Hutcherson', 'Jennifer Lawrence', 'James McAvoy', 'Patrick Stewart', 'Ian McKellen', 'Hugh Jackman', 'Christian Bale', 'Heath Ledger', 'Aaron Eckhart', 'Michael Caine', 'Scarlett Johansson', 'Robert Downey Jr.', 'Chris Evans', 'Jeremy Renner', 'Amy Adams', 'Forest Whitaker', 'Michael Stuhlbarg', 'Mark Strong', 'Jude Law', 'Rachel McAdams', 'Mark Ruffalo', 'Emily Mortimer', 'Ben Kingsley', 'Josh Hartnett', 'Morgan Freeman', 'Lucy Liu', 'Ed Harris', 'Sandra Bullock', 'George Clooney', 'Orto Ignatiussen', 'Meryl Streep', 'Bill Murray', 'Jared Gilman', 'Kara Hayward', 'Bruce Willis', 'Emily Blunt', 'Tom Cruise', 'Bill Paxton', 'Jake Gyllenhaal', 'Viola Davis', 'Melissa Leo', 'Mark Wahlberg', 'Jack Nicholson', 'Taylor Kitsch', 'Emile Hirsch', 'Vince Vaughn', 'Catherine Keener', 'Marcia Gay Harden', 'Thomas Jane', 'Laurie Holden', 'Andre Braugher', 'Radha Mitchell', 'Sean Bean', 'Deborah Kara Unger', 'Channing Tatum', 'Diego Luna', 'Felicity Jones', 'Alan Tudyk', 'Donnie Yen', 'Eddie Redmayne', 'Tom Prior', 'Sophie Perry', 'Katherine Waterston', 'Alison Sudol', 'Dan Fogler', 'Topher Grace', 'Adrien Brody', 'Ralph Fiennes', 'F. Murray Abraham', 'Mathieu Amalric', 'Daniel Craig', 'Eva Green', 'Judi Dench', 'Jeffrey Wright', 'Michelle Monaghan', 'Casey Affleck', 'Michelle Williams', 'Kyle Chandler', 'Lucas Hedges', 'Cate Blanchett', 'Jay Baruchel', 'Gerard Butler', 'Christopher Mintz-Plasse', 'Craig Ferguson', 'Michael Cera', 'Jonah Hill', 'Margot Robbie', 'Kristin Scott Thomas', 'Eric Godon', 'Will Smith', 'Thandie Newton', 'Jaden Smith', 'Brian Howe', 'Jackie Chan', 'Taraji P. Henson', 'Octavia Spencer', 'Emma Stone', 'Ryan Gosling', 'Rosemarie DeWitt', 'J.K. Simmons', 'Miles Teller', 'Melissa Benoist', 'Paul Reiser', 'Steve Lantz', 'Gregg Weiner', 'Shailene Woodley', 'Ansel Elgort', 'Nat Wolff', 'Laura Dern', 'Reese Witherspoon', 'Seth MacFarlane', 'Mila Kunis', 'Natalie Portman', 'Vincent Cassel', 'Winona Ryder', 'Rosario Dawson', 'Woody Harrelson', 'Tommy Lee Jones', 'Javier Bardem', 'Josh Brolin', 'Denzel Washington', 'Russell Crowe', 'Chiwetel Ejiofor', 'Michael Kenneth Williams', 'Michael Fassbender', 'Brad Pitt', 'Diane Kruger', 'Eli Roth', 'Melanie Laurent', 'Sarah Gadon', 'Isabella Rossellini', 'Logan Lerman', 'Emma Watson', 'Daniel Radcliffe', 'Rupert Grint', 'Michael Gambon', 'Bill Nighy', 'Simon Pegg', 'Chris Pine', 'Zachary Quinto', 'Leonard Nimoy', 'Zoe Saldana', 'Chris Pratt', 'Vin Diesel', 'Bradley Cooper', 'Zach Galifianakis', 'Justin Bartha', 'Ed Helms', 'Jason Sudeikis', 'Jennifer Aniston', 'Emma Roberts', 'Dave Franco', 'Emily Meade', 'Miles Heizer', 'Jesse Eisenberg', 'Andrew Garfield', 'Sam Worthington', 'Luke Bracey', 'Teresa Palmer', 'Nicholas Hoult', 'Tom Hardy', 'Gary Oldman', 'Keri Russell', 'Andy Serkis', 'Martin Freeman', 'Nick Frost', 'Seth Rogen', 'Anna Kendrick', 'Bryce Dallas Howard', 'Ty Simpkins', 'Judy Greer', 'Oliver Platt', 'Dan Stevens', 'Sheila Kelley', 'Maika Monroe', 'Keir Gilchrist', 'Olivia Luccardi', 'Lili Sepe', 'Joel David Moore', 'Liam Hemsworth', 'Philip Seymour Hoffman', 'Robin Wright', 'Naomi Watts', 'Viggo Mortensen', 'George MacKay', 'Samantha Isler', 'Annalise Basso', 'Elizabeth Reaser', 'Lulu Wilson', 'Henry Thomas', 'Armin Mueller-Stahl', 'Josef Altin', 'Charlize Theron', 'Zoe Kravitz', 'Zoey Deutch', 'Blake Jenner', 'Hailee Steinfeld', 'Jeff Bridges', 'Gwyneth Paltrow', 'Terrence Howard', 'Freddie Highmore', 'Jonathan Rhys Meyers', 'Guy Pearce', 'Anthony Mackie', 'Brian Geraghty', 'Evangeline Lilly', 'Paul Rudd', 'Ezra Miller', 'Tilda Swinton', 'Julia Ormond', 'John C. Reilly', 'Jack McBrayer', 'Jane Lynch', 'Sarah Silverman', 'Andy Samberg', 'Katie Crown', 'Kelsey Grammer', 'Jorma Taccone', 'Akiva Schaffer', 'Adam Sandler', 'Selena Gomez', 'Kevin James', 'Salma Hayek', 'Toby Jones', 'Chris Rock', 'David Spade', 'Paula Patton', 'Gabourey Sidibe', \"Mo'Nique\", 'Mariah Carey', 'Travis Fimmel', 'Ben Foster', 'Gil Birmingham', 'Kristen Stewart', 'Steve Carell', 'Toni Collette', 'Greg Kinnear', 'Abigail Breslin', 'Harrison Ford', 'Chadwick Boseman', 'T.R. Knight', 'Nicole Beharie', 'Brenton Thwaites', 'Taylor Swift', 'Karen Gillan', 'Katee Sackhoff', 'Rory Cochrane', 'Karl Urban', 'Olivia Thirlby', 'Lena Headey', 'David Wenham', 'Dominic West', 'Julia Roberts', \"Jack O'Connell\", 'Miyavi', 'Domhnall Gleeson', 'Daisy Ridley', 'John Boyega', 'Oscar Isaac', 'Alicia Vikander', 'Sonoya Mizuno', 'Henry Cavill', 'Armie Hammer', 'Elizabeth Debicki', 'Sharlto Copley', 'David James', 'Jason Cope', 'Nathalie Boltt', 'Brie Larson', 'Jacob Tremblay', 'Sean Bridgers', 'Wendy Crewson', 'Kate Bosworth', 'Kevin Spacey', 'Sam Rockwell', 'Dominique McElligott', 'Rosie Shaw', 'Colin Farrell', 'Brendan Gleeson', 'Ciaran Hinds', 'Daniel Day-Lewis', 'Paul Dano', 'Martin Stringer', 'Mary Elizabeth Winstead', 'Kieran Culkin', 'Alison Pill', 'John Goodman', 'Ben Affleck', 'Rosamund Pike', 'Neil Patrick Harris', 'Tyler Perry', 'Megan Fox', 'Shia LaBeouf', 'Michael Pena', 'America Ferrera', 'Rhona Mitra', 'Danny Glover', 'Michael Sheen', 'Richard Gere', 'Joan Allen', 'Edgar Ramirez', 'Julia Stiles', 'Corey Stoll', 'Michael Douglas', 'Robert De Niro', 'Jacki Weaver', 'Anna Friel', 'Abbie Cornish', 'Albert Finney', 'Marion Cotillard', 'Jared Harris', 'Vincent Ebrahim', 'Adele Exarchopoulos', 'Lea Seydoux', 'Salim Kechiouche', 'Aurelien Recoing', 'Nathalie Baye', 'Christoph Waltz', 'Jamie Foxx', 'Kerry Washington', 'Leslie Bibb', 'Colm Meaney', 'Vinnie Jones', 'Amanda Bynes', 'Penn Badgley', 'Dan Byrd', 'Ted Levine', 'Kathleen Quinlan', 'Emilie de Ravin', 'Robert Pattinson', 'Caitlyn Rund', 'Moises Acevedo', 'Charlie Hunnam', 'Sienna Miller', 'Charlie Cox', 'Claire Danes', 'Kyle Gallner', 'Cole Konis', 'Tyler James Williams', 'Tessa Thompson', 'Michael B. Jordan', 'Sylvester Stallone', 'Phylicia Rashad', 'Antonio Tarver', 'Milo Ventimiglia', 'Burt Young', 'Julie Benz', 'Matthew Marsden', 'Graham McTavish', 'Arnold Schwarzenegger', '50 Cent', \"Vincent D'Onofrio\", 'Ethan Hawke', 'Ellar Coltrane', 'Patricia Arquette', 'Elijah Smith', 'Sally Hawkins', 'Kari Matchett', 'Zachary Bennett', 'Alec Baldwin', 'Peter Sarsgaard', 'Vera Farmiga', 'Patrick Wilson', 'Jackie Earle Haley', 'Carla Gugino', 'Malin Akerman', 'Ben Stiller', 'Kristen Wiig', 'Kate Mara', 'James Franco', 'Freida Pinto', 'Dev Patel', 'Nicole Kidman', 'Rooney Mara', 'Sunny Pawar', 'Joaquin Phoenix', 'Jesse Plemons', 'Owen Wilson', 'Kathy Bates', 'Kurt Fuller', 'Bonnie Hunt', 'Paul Newman', 'Larry the Cable Guy', 'Lake Bell', 'Pierce Brosnan', 'Ewan McGregor', 'Tom Holland', 'Oaklee Pendergast', 'Olivia Williams', 'Jon Bernthal', 'Benicio Del Toro', 'Blake Lively', 'Michiel Huisman', 'Kathy Baker', 'Gaby Hoffmann', 'Logan Marshall-Green', 'Noomi Rapace', 'Michael Nyqvist', 'Ewa Froling', 'Lena Endre', 'Keanu Reeves', 'Alfie Allen', 'Willem Dafoe', 'Alison Brie', 'Gretchen Mol', 'Jordan Carlos', 'Margarita Levieva', 'Dakota Johnson', 'Benedict Cumberbatch', 'Keira Knightley', 'Matthew Goode', 'Allen Leech', 'Ryan Reynolds', 'Morena Baccarin', 'T.J. Miller', 'Ed Skrein', 'Ryan Potter', 'Scott Adsit', 'Jamie Chung', 'Mike Vogel', 'Jessica Lucas', 'Lizzy Caplan', 'Randall Park', 'Jane Levy', 'Stephen Lang', 'Dylan Minnette', 'Daniel Zovatto', 'Jack Black', 'Ian McShane', 'Angelina Jolie', 'Colm Feore', 'Amy Ryan', 'Gattlin Griffith', 'Tom Hanks', 'Tim Allen', 'Joan Cusack', 'Ned Beatty', 'Barkhad Abdi', 'Barkhad Abdirahman', 'Helen Mirren', 'Daniel Bruhl', 'Chris Hemsworth', 'Olivia Wilde', 'Alexandra Maria Lara', 'Garrett Hedlund', 'Bruce Boxleitner', 'Joe Alwyn', 'Arturo Castro', 'Mason Lee', 'Levi Miller', 'Justin Timberlake', 'Amanda Seyfried', 'Cillian Murphy', 'Rose Byrne', 'Michelle Yeoh', 'Jason Statham', 'Paul Walker', 'Dwayne Johnson', \"Auli'i Cravalho\", 'Rachel House', 'Sam Neill', 'Julian Dennison', 'Rima Te Wiata', 'Nicholas Hope', 'Ewen Leslie', 'Emily Browning', 'Taron Egerton', 'Samuel L. Jackson', 'Kurt Russell', 'Jennifer Jason Leigh', 'Walton Goggins', 'Rose McGowan', 'Danny Trejo', 'Zoe Bell', 'Vanessa Ferlito', 'Freddy Rodriguez', 'Marley Shelton', 'Jason Momoa', 'Jim Carrey', 'Charlotte Gainsbourg', 'Marton Csokas', 'Kati Outinen', 'David Harbour', 'Liam Neeson', 'Maggie Grace', 'Famke Janssen', 'Leland Orser', 'Halle Berry', 'Hugh Grant', 'Hugo Weaving', 'Kate Winslet', 'Christopher Fitzgerald', 'Jonathan Roumie', 'Jeff Daniels', 'Theo James', 'Eric Bana', 'Saoirse Ronan', 'Brenda Blethyn', 'Emory Cohen', 'Jim Broadbent', 'Renee Zellweger', 'Gemma Jones', 'Sally Phillips', 'Gugu Mbatha-Raw', 'Mahershala Ali', 'Shariff Earp', 'Duan Sanderson', 'Alex R. Hibbert', 'Gabriel Basso', 'Nick Robinson', 'Moises Arias', 'Nick Offerman', 'Thomas Mann', 'RJ Cyler', 'Olivia Cooke', 'Oliver Cooper', 'Jonathan Daniel Brown', 'Dax Flame', 'Michael Keaton', 'Liev Schreiber', 'Elisabeth Moss', 'Ron Perlman', 'Mandy Moore', 'Zachary Levi', 'Donna Murphy', 'Selma Blair', 'Doug Jones', 'John Alexander', 'Danny Huston', 'Daniel Olbrychski', 'Stephen Merchant', 'Edward Norton', 'Andrea Riseborough', 'Olga Kurylenko', 'Andreas Wisniewski', 'Essie Davis', 'Noah Wiseman', 'Daniel Henshall', 'Hayley McElhinney', 'Julian Barratt', 'Kenneth Branagh', 'Kevin Costner', 'Janelle Monae', 'Demi Moore', 'William Hurt', 'Dane Cook', 'Liv Tyler', 'Tim Roth', 'David Oyelowo', 'Carmen Ejogo', 'Lorraine Toussaint', 'Madina Nalwanga', \"Lupita Nyong'o\", 'Martin Kabanza', 'Tom Felton', 'Jack Davenport', 'Orlando Bloom', 'Haley Bennett', 'Danila Kozlovsky', 'Lucy Fry', 'Gabriel Byrne', 'Rebecca Ferguson', 'Simon Helberg', 'Justin Theroux', 'Jeremy Irons', 'Malcolm Sinclair', 'Raghuvir Joshi', 'Karolina Gruszka', 'Tom Hiddleston', 'Anthony Hopkins', 'David Strathairn', 'Sally Field', 'Max Greenfield', 'Tyne Daly', 'Wendi McLendon-Covey', 'Drew Barrymore', 'Kevin Nealon', 'Jeffrey Dean Morgan', 'Jennifer Connelly', 'Djimon Hounsou', 'Kagiso Kuypers', 'Sean Faris', 'Amber Heard', 'Ben Whishaw', 'Dustin Hoffman', 'Alan Rickman', 'Francesc Albiol', 'Timothy Spall', 'Rachel Weisz', 'Harvey Keitel', 'Jane Fonda', 'Oprah Winfrey', 'John Cusack', 'Mary McCormack', 'Paul Birchard', 'Amanda Peet', 'Anika Noni Rose', 'Keith David', 'Bruno Campos', 'Joseph Mawle', 'Sean Patrick Thomas', 'Ellen Burstyn', 'Hayden Panettiere', 'Catalina Sandino Moreno', 'Florence Clery', 'Jessica Barden', 'Olivia Colman', 'Ruth Wilson', 'Andrew Scott', \"Fionn O'Shea\", 'Nicholas Galitzine', 'Moe Dunford', 'Jessica Brown Findlay', 'Jeremy Irvine', 'Tom Wilkinson', 'Idris Elba', 'Ginnifer Goodwin', 'Jason Bateman', 'Jenny Slate', 'Jennifer Garner', 'Jared Leto', 'Steve Zahn', 'Jeremy Davies', 'Zach Grenier', 'Zachary Gordon', 'Devon Bostick', 'Robert Capron', 'Rachael Harris', 'Sarah Polley', 'Linh Dan Pham', 'Bryan Cranston', 'Carey Mulligan', 'Albert Brooks', 'Ellen DeGeneres', \"Ed O'Neill\", 'Kaitlin Olson', 'David Morse', 'Carrie-Anne Moss', 'Sarah Roemer', 'Cary-Hiroyuki Tagawa', 'Joel Edgerton', 'Nick Nolte', 'Jennifer Morrison', 'Tobey Maguire', 'Kirsten Dunst', 'Kiefer Sutherland', 'Chris Isaak', 'C.H. Evans', 'Sandra Kinder', 'Alexander Skarsgard', 'Rory J. Saper', 'Christian Stevens', 'Brooklyn Decker', 'Rihanna', 'Jim Parsons', 'Steve Martin', 'Jennifer Lopez', 'Ryan Guzman', 'Tyler Hoechlin', 'Kristin Chenoweth', 'John Corbett', 'Nia Vardalos', 'Michael Constantine', 'Lainie Kazan', 'Kit Harington', 'Dakota Fanning', 'Teri Hatcher', 'John Hodgman', 'Jennifer Saunders', 'Carice van Houten', 'Peter Riegert', 'Adewale Akinnuoye-Agbaje', 'Dennis Quaid', 'Cam Gigandet', 'Antje Traue', 'Kenny Wormald', 'Julianne Hough', 'Josh Duhamel', 'Tyrese Gibson', 'Rosie Huntington-Whiteley', 'Cobie Smulders', 'David Lyons', 'Aldis Hodge', 'Robert Knepper', 'Katherine Heigl', 'Leslie Mann', 'Zac Efron', 'Taylor Schilling', 'Blythe Danner', 'Riley Thomas Stewart', 'Anna Faris', 'Sacha Baron Cohen', 'Will Ferrell', 'Elizabeth Banks', 'Will Arnett', 'Laura Linney', 'Valerie Mahaffey', 'William Fichtner', 'Jon Voight', 'Lia Marie Johnson', 'Logan Paul', 'Peyton List', 'Calum Worthy', 'Noel Fisher', 'Craig Robinson', 'Gerry Bednob', 'Jamie Bell', 'Mia Wasikowska', 'Su Elliot', 'Eddie Marsan', 'Imogen Poots', 'Anton Yelchin', 'Alia Shawkat', 'Nancy Kwan', 'Annabelle Attanasio', 'Alfred Molina', 'Tina Fey', 'Amy Poehler', 'Bill Hader', 'Lewis Black', 'Mindy Kaling', 'Luke Wilson', 'Maya Rudolph', 'Terry Crews', 'Dax Shepard', 'Jorge Garcia', 'Taylor Lautner', 'Peter Facinelli', 'Xavier Samuel', 'Eddie Murphy', 'Britt Robertson', 'Natascha McElhone', 'Scott Eastwood', 'Alan Alda', 'Mark Rylance', 'Ruby Barnhill', 'Penelope Wilton', 'Jemaine Clement', 'Taika Waititi', 'Cori Gonzalez-Macuer', 'Jonny Brugh', 'Jack Huston', 'Gemma Arterton', 'Sam Claflin', 'Emilia Clarke', 'Janet McTeer', 'Charles Dance', 'Jason Clarke', 'Ang Phula Sherpa', 'Thomas M. Wright', 'Martin Henderson', 'Kylie Rogers', 'Brighton Sharbino', 'Clive Owen', 'Julianne Moore', 'Tony Danza', 'Gabriella Wilde', 'Alex Pettyfer', 'Bruce Greenwood', 'James Badge Dale', 'John Krasinski', 'Pablo Schreiber', 'David Denman', 'Sophie Okonedo', 'Lucy Walters', 'Mireille Enos', 'Daniella Kertesz', 'Jamie Blackley', 'Joshua Leonard', 'Max Martini', 'Robert Patrick', 'AnnaSophia Robb', 'Olivia Munn', 'Timothy Olyphant', 'Justin Long', 'Maggie Q', 'Michael Parks', 'Mel Gibson', 'Erin Moriarty', 'Michael Vartan', 'Nadine Velazquez', 'Don Cheadle', 'Mickey Rourke', 'Jessica Alba', 'John Hurt', 'Joseph Fiennes', 'Stephen Dorff', 'Ronnie Gene Blevins', 'Josh Stewart', 'Bill Engvall', 'Alex Essoe', 'Haley Joel Osment', 'Genesis Rodriguez', 'Dermot Mulroney', 'Diego Klattenhoff', 'Dianna Agron', 'Michelle Pfeiffer', 'John Travolta', 'Queen Latifah', 'Nikki Blonsky', \"John D'Leo\", 'Portia Doubleday', 'Ben Barnes', 'Jodie Foster', 'Christopher Plummer', 'Edward Asner', 'Jordan Nagai', 'John Ratzenberger', 'Stellan Skarsgard', 'Stacy Martin', 'Lily James', 'Jai Courtney', 'Lois van Wijk', 'Richard Madden', 'Charlotte Le Bon', 'Guillaume Baillargeon', 'Emilie Leclerc', 'Kelly Reilly', 'Romain Duris', 'Jalil Lespert', 'Camille Cottin', 'Daniel Gimenez Cacho', 'Tom Hughes', 'Oona Chaplin', 'Barry Ward', 'Mia Goth', 'Dane DeHaan', 'Elle Fanning', 'Annette Bening', 'Greta Gerwig', 'Billy Crudup', 'Tye Sheridan', 'Logan Miller', 'Joey Morgan', 'Sarah Dumont', 'Bel Powley', 'Stephen Moyer', 'AJ Michalka', 'Joel Courtney', 'Lesley Manville', 'Carly Rae Jepsen', 'Maddie Ziegler', 'Chris Messina', 'Christina Hendricks', 'Karl Glusman', 'Aomi Muyock', 'Klara Kristin', 'Juan Saavedra', 'Jason Isaacs', 'Ivo Nandi', 'Martin McCann', 'Andrew Simpson', 'Sam Riley', 'Bella Heathcote', 'Lily Cole', 'Alice Braga', 'Charlie Tahan', 'Salli Richardson-Whitfield', 'Laurence Fishburne', 'Liana Liberato', 'James Marsden', 'Susan Sarandon', 'Patrick Dempsey', 'Hilary Swank', 'Imelda Staunton', 'Scott Glenn', 'Harry Connick Jr.', 'Lisa Kudrow', 'Wentworth Miller', 'Eric Stonestreet', 'Louis C.K.', 'Kevin Hart', 'Danielle Nicolet', 'T.I.', 'Milla Jovovich', 'Ali Larter', 'Kim Coates', 'Iain Glen', 'Shawn Roberts', 'Matthew Macfadyen', 'Max von Sydow', 'Ray Stevenson', 'Sienna Guillory', 'Michelle Rodriguez', 'Sigourney Weaver', 'Lewis MacDougall', 'Toby Kebbell', 'Rodrigo Santoro', 'Adrian Martinez', 'Morgan Saylor', 'Brian Marc', 'Nazanin Boniadi', 'Tony Shalhoub', 'Anthony LaPaglia', 'Jordana Brewster', 'Aryana Engineer', 'Mark Chao', 'Ni Ni', 'Dave Bautista', 'Alain Moussi', 'Gina Carano', 'Jean-Claude Van Damme', 'Randy Couture', 'Brandon Routh', 'Christian Stolte', 'Maggie Gyllenhaal', 'Lily Collins', 'Christian Cooke', 'Jaime Winstone', 'Jamie Campbell Bower', 'Robert Sheehan', 'Jemima West', 'Taissa Farmiga', 'Steve Tom', 'Glenn Close', 'Dominique Tipper', 'Paddy Considine', 'Alexandra Daddario', 'Benjamin Walker', 'Colton Haynes', 'Brandon T. Jackson', 'Kevin McKidd', 'Steve Coogan', 'Nathan Fillion', 'Michael Rooker', 'Don Thompson', 'Tania Raymonde', 'Trey Songz', \"Dylan O'Brien\", 'Victoria Justice', 'James Frecheville', 'Kaya Scodelario', 'Will Poulter', 'Thomas Brodie-Sangster', 'Giancarlo Esposito', 'Hugh Laurie', 'Raffey Cassidy', 'Kate Beckinsale', 'Chloe Sevigny', 'Emma Greenwell', 'Michael Ealy', 'India Eisley', 'Stephen Rea', 'Bokeem Woodbine', 'Sanjeev Bhaskar', 'Rob Riggle', 'Jake Johnson', 'Damon Wayans Jr.', 'Nina Dobrev', 'Tobias Menzies', 'Lara Pulver', 'Mel Raido', 'Duncan Joiner', 'Lucas Till', 'Thomas Lennon', 'Matthew Perry', 'Barry Pepper', 'Josh Gad', 'Kristen Bell', 'Idina Menzel', 'Jonathan Groff', 'Jason Segel', 'Russell Brand', 'Julie Andrews', 'Cameron Diaz', 'Kate Upton', 'Nikolaj Coster-Waldau', 'Megan Charpentier', 'Isabelle Nelisse', 'Matthew Morrison', 'J. Todd Smith', 'Penelope Cruz', 'Woody Allen', 'Quvenzhane Wallis', 'Rob Corddry', 'Ellie Kemper', 'Kathryn Hahn', 'Jon Daly', 'Christina Applegate', 'Skyler Gisondo', 'Steele Stebbins', 'Melissa McCarthy', 'Michael McDonald', 'Demian Bichir', 'Gabriel Chavarria', 'Theo Rossi', 'Tony Revolori', 'Shameik Moore', 'Kiersey Clemons', 'Kimberly Elise', 'Peter Dinklage', 'Ella Anderson', 'Kate McKinnon', 'Leslie Jones', 'Danny McBride', 'Gary Cole', 'Rasmus Hardiker', 'Ike Barinholtz', 'Eddie Izzard', 'Amy Schumer', 'Colin Quinn', 'Moon Bloodgood', 'Aaron Paul', 'Dominic Cooper', 'Scott Mescudi', 'Luke Evans', 'Art Parkinson', 'Jamie Dornan', \"Jason O'Mara\", \"Beverly D'Angelo\", 'Michael McElhatton', 'Brian Cox', 'Ophelia Lovibond', 'Brian Caspe', 'Karel Hermanek Jr.', 'Aiden Longworth', 'Jennifer Ehle', 'Cynthia Nixon', 'Duncan Duff', 'Keith Carradine', 'Sarah Jessica Parker', 'Kim Cattrall', 'Kristin Davis', 'Eloise Mumford', 'Mandy Gonzalez', 'Hayden Christensen', 'Rachel Bilson', 'Mary Steenburgen', 'Richard Jenkins', 'Kodi Smit-McPhee', 'Robert Duvall', 'Billy Bob Thornton', 'Mauricio Lopez', 'Cara Buono', 'Matthew Fox', 'Werner Herzog', 'Charlie Day', 'Rinko Kikuchi', 'Steve Wiebe', 'Craig T. Nelson', 'Derek Jeter', 'Eva Mendes', 'Craig Van Hook', 'Sam Elliott', 'Matt Long', 'Linda Cardellini', 'John Carroll Lynch', 'Thomas Haden Church', 'Josh Wiggins', 'Luke Kleintank', 'Lauren Graham', 'Sophie Nelisse', 'Joe Cobden', 'Rebel Wilson', 'Brittany Snow', 'Anna Camp', 'Freddie Crowder', 'Ari Graynor', 'Colin Hanks', 'Kat Dennings', 'Wes Bentley', 'Emily Ratajkowski', 'Jonny Weston', 'Logan Huffman', 'Alexander Ludwig', 'Adam Devine', 'Aubrey Plaza', 'Maude Apatow', 'Iris Apatow', 'Danny DeVito', 'Edie Falco', 'Josh Lucas', 'Alexis Clagett', 'Bree Turner', 'Eric Winter', 'Andie MacDowell', 'Diego Boneta', 'Marlon Wayans', 'Paul Bettany', 'Charles S. Dutton', 'Lucas Black', 'Zachery Ty Bryan', 'Shad Moss', 'Damien Marzette', 'Michael Shannon', 'Diane Lane', 'Arnaud Viard', 'Linda Gegusch', 'Adam Driver', 'Golshifteh Farahani', 'Nellie', 'Rizwan Manji', 'Tadanobu Asano', 'Zoe Kazan', 'Megan Park', 'Jason Schwartzman', 'Rip Torn', 'Judy Davis', 'Frank Langella', 'Lily Rabe', 'Ruth Negga', 'Will Dalton', 'Dean Mumford', 'Rebecca Hall', 'Jon Hamm', 'Pierre Coffin', 'Isla Fisher', 'Gal Gadot', 'Allison Tolman', 'Christopher Evan Welch', 'Michael C. Hall', 'Tracy Letts', 'Maria Dizzia', 'Sam Trammell', 'Alan Arkin', 'John Leguizamo', 'Ray Romano', 'Denis Leary', 'Chris Wedge', 'Ashlyn Sanchez', 'Elizabeth Olsen', 'Ed Oxenbould', 'Olivia DeJonge', 'Deanna Dunagan', 'Peter McRobbie', 'Robbie Amell', 'Mae Whitman', 'Bella Thorne', 'Allison Janney', 'Cheryl Hines', 'Jae Head', 'Quinton Aaron', 'Tim McGraw', 'Jon Favreau', 'Joey Lauren Adams', 'Neel Sethi', 'Sean Penn', 'Hunter McCracken', 'Giovanni Ribisi', 'Jasmine Trinca', 'Hermione Corfield', 'Addison Timlin', 'Joely Richardson', 'Paula Prentiss', 'Lucy Boynton', 'Kiernan Shipka', 'Lauren Holly', 'Bob Balaban', 'Paul Giamatti', 'Jessica Biel', 'Rufus Sewell', 'Vincent Kartheiser', 'Sarita Choudhury', 'Alexander Black', 'Connie Nielsen', 'Morgan Lily', 'Trenton Rogers', 'Michael Pitt', 'Steven Yeun', 'Astrid Berges-Frisbey', 'Brit Marling', 'Brady Corbet', 'James Ransone', 'Juliet Rylance', 'Fred Dalton Thompson', 'Rainn Wilson', 'Kevin Bacon', 'Scott Speedman', 'Gemma Ward', 'Alex Fisher', 'Joel Kinnaman', 'Ice Cube', 'Regina Hall', 'Anthony Anderson', 'Eve', 'Vicky Krieps', 'Max Irons', 'Jake Abel', 'Aidan Turner', 'Hayley Atwell', 'January Jones', 'Aidan Quinn', 'Boyd Holbrook', 'Jason Flemyng', 'Lior Ashkenazi', 'Storm Acheche Sahlstrom', 'Douglas M. Griffin', 'James DuMont', 'John Gallagher Jr.', 'Kate Siegel', 'Michael Trucco', 'Samantha Sloyan', 'Tony Goldwyn', 'Adria Arjona', 'John C. McGinley', 'Robert Redford', 'Oakes Fegley', 'Oona Laurence', 'Asa Butterfield', 'David Thewlis', 'Rupert Friend', \"Zac Mattoon O'Brien\", 'Dale Dickey', 'Christopher Lee', 'Julianna Margulies', 'Nathan Phillips', 'Rachel Blanchard', 'Tom Costello', 'Jo Hartley', 'Paul Anderson', 'Vanessa Hudgens', 'Jena Malone', 'Riley Keough', 'Sasha Lane', 'McCaul Lombardi', 'Jessie Ok Gray', 'Cary Joji Fukunaga', 'Ashley Benson', 'Rachel Korine', 'Rachael Blake', 'Bridgette Barrett', 'Temuera Morrison', 'Adrianne Palicki', 'Byung-hun Lee', 'Yoo Gong', 'Soo-an Kim', 'Yu-mi Jung', 'Dong-seok Ma', 'Kang-ho Song', 'Ji-min Han', 'Hee-Bong Byun', 'Hae-il Park', 'Doona Bae', 'Jet Li', 'Dolph Lundgren', 'Antonio Banderas', 'Elena Anaya', 'Jan Cornet', 'Marisa Paredes', 'Brendan Fraser', 'Maria Bello', 'Gabriel Bateman', 'Billy Burke', 'Sarah Clarke', 'Ben Winchell', 'Josh Brener', 'Andy Garcia', 'Robert Carlyle', 'Harold Perrineau', 'Lin Shaye', 'Natasha Henstridge', 'Lukas Hassel', 'Dominique Swain', 'Aasif Mandvi', 'Jessica Barth', 'Adam Brody', 'Johnny Simmons', 'Gabriel Luna', 'Clifton Collins Jr.', 'Callan McAuliffe', 'Lorraine Nicholson', 'Daniel Eric Gold', 'David Acord', 'Lily-Rose Depp', 'Harley Quinn Smith', 'Patricia Clarkson', 'Tom Mison', 'Jenna Elfman', 'Kristen Connolly', 'Anna Hutchison', 'Fran Kranz', 'Andrea Whitburn', 'Jennifer Koenig', 'Michael Dickson', 'Wei Tang', 'Leehom Wang', 'Isabel Lucas', 'Josh Peck', 'Katie Holmes', 'Richenda Carey', 'Riccardo Scamarcio', 'Billy Crystal', 'Steve Buscemi', 'Mary-Louise Parker', 'Sam Shepard', 'Emma Thompson', 'Annie Rose Buckley', 'Kelly Macdonald', 'Billy Connolly', 'Julie Walters', 'Alice Englert', 'Alden Ehrenreich', 'Audrey Tautou', 'Lambert Wilson', 'Pierre Niney', 'Paula Beer', 'Ernst Stotzner', 'Marie Gruber', 'Laurent Lucas', 'Garance Marillier', 'Ella Rumpf', 'Rabah Nait Oufella', 'Jean Reno', 'Irrfan Khan', 'Suraj Sharma', 'Adil Hussain', 'Tabu', 'Rhys Ifans', 'Terence Stamp', 'Ray Winstone', 'Crispin Glover', 'Richard Dreyfuss', 'Elisabeth Shue', \"Jerry O'Connell\", 'Ving Rhames', 'Jeff Kahn', 'Odeya Rush', 'Ryan Lee', 'Shiloh Fernandez', 'Lou Taylor Pucci', 'Alice Eve', 'Emma Fitzpatrick', 'John Cullum', 'Adam Pally', 'Thomas Middleditch', 'Shannon Woodward', 'Natalie Martinez', 'Adam Levine', 'Benedict Wong', 'Matthias Schoenaerts', 'James Gandolfini', 'Lynn Collins', 'Samantha Morton', 'Tian Jing', 'Andy Lau', 'Lorenza Izzo', 'Ariel Levy', 'Aaron Burns', 'Kirby Bliss Blanton', 'Ana de Armas', 'Christopher McDonald', 'Mira Sorvino', 'Michael Chiklis', 'Kerry Bishe', 'Peter Stormare', 'Andy Powers', 'Laura Allen', 'Christian Distefano', 'Emayatzy Corinealdi', 'Tammy Blanchard', '?scar Jaenada', 'Angelo Josue Lozano Corzo', 'Brett Cullen', 'Chatchawai Kamonsakpitak', 'Jason Barry', 'Karen Moskow', 'Kai Ryssdal', 'Robin Williams', 'Elijah Wood', 'Brittany Murphy', 'Rose Leslie', '?lafur Darri ?lafsson', 'Anya Taylor-Joy', 'Haley Lu Richardson', 'Kyra Sedgwick', 'Jessica Sula', 'Ralph Ineson', 'Kate Dickie', 'Julian Richings', 'Michael Yare', 'Dick Van Dyke', 'Ross Kimball', 'Sarah Paulson', 'Shea Adams', 'Eddie Baroo', 'Dean Norris', 'Dakota Blue Richards', 'Ben Walker', 'Saurabh Shukla', 'Anil Kapoor', 'Noah Ringer', 'Nicola Peltz', 'Jack Reynor', 'Ferdia Walsh-Peelo', 'Aidan Gillen', 'Maria Doyle Kennedy', 'Stanley Tucci', 'Jackson Rathbone', 'Karin Konoval', 'Amber Tamblyn', 'Sean Bott', 'Tangie Ambrose', 'Cedric the Entertainer', 'Benjamin Bratt', 'Miranda Cosgrove', 'Alistair Abell', 'Jerry Stiller', 'Ron Livingston', 'Lili Taylor', 'Madison Wolfe', \"Frances O'Connor\", 'Isabelle Fuhrman', 'CCH Pounder', 'Sarah Snook', 'Noah Taylor', 'Madeleine West', 'Max Burkholder', 'Adelaide Kane', 'Teyonah Parris', 'Laura Ramsey', 'Brooke Shields', 'Jack Madigan', 'Frank Madigan', 'Rene Russo', 'Riz Ahmed', 'Billie Piper', 'James Floyd', 'Cush Jumbo', 'Anders Holm', 'Usher Raymond', 'Ruben Blades', 'Steven Mackintosh', 'Karen Allen', 'Jessica Lange', 'Antonia Ribero', 'Elizabeth Berrington', 'Katey Sagal', 'Christopher Walken', 'Aaron Yoo', 'Annabeth Gish', 'Charlie Heaton', 'Annabelle Wallis', 'Tom Cullen', 'Clint Dyer', 'Ward Horton', 'Alfre Woodard', 'Tony Amendola', 'Lydia Wilson', 'Kate Hudson', 'Alexis Dziena', 'Candice Bergen', 'Bryan Greenberg', 'Rachel Wood', 'Sullivan Stapleton', 'Hans Matheson', 'Jordi Moll?', 'Lars Eidinger', 'Sigrid Bouaziz', 'Anders Danielsen Lie', 'Vernetta Lopez', 'Scott Lawrence', 'Jim Caviezel', 'Val Kilmer', 'John Turturro', 'Emmanuelle Chriqui', 'Nick Swardson', 'Jasper Newell', 'Dakota Goyo', 'Jamal Woolard', 'Derek Luke', 'Momo Dione', 'Nicholas Braun', 'Mateo Arias', 'Israel Broussard', 'Chris Cooper', 'Judah Lewis', 'Ryoko Seta', 'Jeff Goldblum', 'Bill Pullman', 'Mia Stallard', 'Richard Armitage', 'Ken Stott', 'Kelly Adams', 'Luing Andrews', 'Katy Barker', 'Til Schweiger', 'John Malkovich', 'Analeigh Tipton', \"Sofia Black-D'Elia\", 'Travis Tope', 'Michael Kelly', 'Common', 'George Lopez', 'Karen Disher', 'Austin Stowell', 'Tim Blake Nelson', 'Jenna Dewan Tatum', 'Damaine Radcliff', \"De'Shawn Washington\", 'Ethan Suplee', 'Juno Temple', 'Max Minghella', 'Joe Anderson', 'Evan Rachel Wood', 'Dana Fuchs', 'Callum Keith Rennie', 'Tijuana Ricks', 'Sue Dahlman', 'Gael Garcia Bernal', 'Mohamed Akhzam', 'Michael Mantell', 'Angourie Rice', 'Matt Bomer', 'Joe Manganiello', 'Adam Rodriguez', 'Stephen Henderson', 'Jovan Adepo', 'Naomie Harris', 'Danny Sapani', 'Ashton Kutcher', 'Kevin Kline', 'Cary Elwes', 'Brian Dennehy', 'Joel McHale', 'Alessandro Nivola', 'James Hamrick', 'Cara Delevingne', 'Austin Abrams', 'Justice Smith', 'Amara Miller', 'Nick Krause', 'John Doman', 'Faith Wladyka', 'Wenwen Han', 'Angela Bassett', 'Tom Sizemore', 'Matt Lanter', 'Carmen Electra', 'Vanessa Lachey', 'Nicole Parker', 'Anthony Edwards', 'Lisa Thoreson', 'Florence Kastriner', 'Adrian Grenier', 'Kevin Connolly', 'Jerry Ferrara', 'Kevin Dillon', 'Min-sik Choi', 'Amr Waked', 'Sebastian Stan', 'Jeremy McWilliams', 'Lynsey Taylor Mackay', 'Dougie McConnell', 'Will Yun Lee', 'Tao Okamoto', 'Rila Fukushima', 'John Hawkes', 'Garret Dillahunt', 'Isaiah Stone', 'Matthew Zuk', 'Gabriela Lopez', 'Bailey Anne Borders']\n"
     ]
    }
   ],
   "source": [
    "def question_7(actor,data,actor_list):  #actor為要找的演員，dictlist為傳入的字典\n",
    "    for i in range(data.shape[0]):          #actor_list為串接並輸出的資料\n",
    "        value=data.at[i,'Actors']    #value=演員名單\n",
    "        if actor in value:                  #如果要找的演員在演員名單內\n",
    "            for a in value:                 \n",
    "                if a not in actor_list:     #如果跟要找的演員合作過的演員不在actor_list中則串接\n",
    "                    actor_list.append(a)\n",
    "                    question_7(a,data,actor_list)  #使用Recursion的方法，串接直到重覆\n",
    "                else:\n",
    "                    continue                #若重複了則不呼叫原函式\n",
    "    return actor_list  \n",
    "\n",
    "actor_list=['Johnny Depp']         #第七題串接資料初始化\n",
    "ans_7=question_7('Johnny Depp',data,actor_list)\n",
    "print(\"There are\",len(ans_7),\"actors who collaborate with Johnny Depp in direct and indirect ways:\\n\")   \n",
    "print(ans_7)"
   ]
  },
  {
   "cell_type": "code",
   "execution_count": null,
   "metadata": {},
   "outputs": [],
   "source": []
  }
 ],
 "metadata": {
  "kernelspec": {
   "display_name": "Python 3",
   "language": "python",
   "name": "python3"
  },
  "language_info": {
   "codemirror_mode": {
    "name": "ipython",
    "version": 3
   },
   "file_extension": ".py",
   "mimetype": "text/x-python",
   "name": "python",
   "nbconvert_exporter": "python",
   "pygments_lexer": "ipython3",
   "version": "3.8.5"
  }
 },
 "nbformat": 4,
 "nbformat_minor": 4
}
